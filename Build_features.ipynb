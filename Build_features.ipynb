{
  "cells": [
    {
      "cell_type": "markdown",
      "metadata": {},
      "source": [
        "## Import Library and load model"
      ]
    },
    {
      "cell_type": "code",
      "execution_count": 1,
      "metadata": {
        "colab": {
          "base_uri": "https://localhost:8080/"
        },
        "id": "C1hkDT38hSaP",
        "outputId": "a162ee22-d76f-4d5a-82f0-a04244cb1384"
      },
      "outputs": [
        {
          "name": "stdout",
          "output_type": "stream",
          "text": [
            "Torch version: 1.13.0\n"
          ]
        }
      ],
      "source": [
        "import numpy as np\n",
        "import torch\n",
        "import clip\n",
        "from pkg_resources import packaging\n",
        "\n",
        "print(\"Torch version:\", torch.__version__)\n",
        "\n",
        "#clip.available_models() # List the name of clip models\n",
        "\n",
        "model, preprocess = clip.load(\"ViT-B/32\")\n",
        "model.cuda().eval()\n",
        "input_resolution = model.visual.input_resolution\n",
        "context_length = model.context_length\n",
        "vocab_size = model.vocab_size\n",
        "\n",
        "print(\"Model parameters:\", f\"{np.sum([int(np.prod(p.shape)) for p in model.parameters()]):,}\")\n",
        "print(\"Input resolution:\", input_resolution)\n",
        "print(\"Context length:\", context_length)\n",
        "print(\"Vocab size:\", vocab_size)\n"
      ]
    },
    {
      "cell_type": "markdown",
      "metadata": {
        "id": "21slhZGCqANb"
      },
      "source": [
        "# Image Preprocessing\n",
        "\n"
      ]
    },
    {
      "cell_type": "code",
      "execution_count": null,
      "metadata": {
        "colab": {
          "base_uri": "https://localhost:8080/",
          "height": 1000
        },
        "id": "6bWe3KbJJcbM",
        "outputId": "285f2a19-1b7e-4f20-bb5d-540fcdaf84de"
      },
      "outputs": [],
      "source": [
        "# train dataset\n",
        "\n",
        "from pycocotools.coco import COCO\n",
        "from PIL import Image\n",
        "from tqdm import tqdm\n",
        "import skimage.io as io\n",
        "import matplotlib.pyplot as plt\n",
        "#import urllib.request\n",
        "\n",
        "annFile = \"annotations/captions_train2014.json\"\n",
        "coco = COCO(annFile)\n",
        "imgIds = coco.getImgIds()\n",
        "img = []\n",
        "anns_lst = []\n",
        "images= []\n",
        "\n",
        "for i in tqdm(range(len(imgIds[0:50000]))):\n",
        "  img.append(coco.loadImgs(imgIds)[i])\n",
        "  ann_ids = coco.getAnnIds(imgIds=img[i]['id'], iscrowd=None)\n",
        "  anns = coco.loadAnns(ann_ids)\n",
        "  #urllib.request.urlretrieve(img[i]['coco_url'],\"temp_file\")\n",
        "  image_file = 'train2014\\COCO_train2014_' + str(anns[0]['image_id']).zfill(12) + '.jpg'\n",
        "  I = Image.open(image_file)\n",
        "  anns_lst.append(anns)\n",
        "  images.append(preprocess(I))"
      ]
    },
    {
      "cell_type": "code",
      "execution_count": 3,
      "metadata": {
        "colab": {
          "base_uri": "https://localhost:8080/",
          "height": 1000
        },
        "id": "6bWe3KbJJcbM",
        "outputId": "285f2a19-1b7e-4f20-bb5d-540fcdaf84de"
      },
      "outputs": [
        {
          "name": "stdout",
          "output_type": "stream",
          "text": [
            "loading annotations into memory...\n",
            "Done (t=0.70s)\n",
            "creating index...\n"
          ]
        },
        {
          "name": "stderr",
          "output_type": "stream",
          "text": [
            "  0%|          | 7/2000 [00:00<00:29, 67.81it/s]"
          ]
        },
        {
          "name": "stdout",
          "output_type": "stream",
          "text": [
            "index created!\n"
          ]
        },
        {
          "name": "stderr",
          "output_type": "stream",
          "text": [
            "100%|██████████| 2000/2000 [00:32<00:00, 62.23it/s]\n"
          ]
        }
      ],
      "source": [
        "# test datset\n",
        "\n",
        "from pycocotools.coco import COCO\n",
        "from PIL import Image\n",
        "from tqdm import tqdm\n",
        "import skimage.io as io\n",
        "import matplotlib.pyplot as plt\n",
        "#import urllib.request\n",
        "\n",
        "annFile = \"annotations/captions_train2014.json\"\n",
        "coco = COCO(annFile)\n",
        "total_imgIds = coco.getImgIds()\n",
        "imgIds = total_imgIds[60000:]\n",
        "img = []\n",
        "anns_lst = []\n",
        "images= []\n",
        "\n",
        "for i in tqdm(range(len(imgIds[0:2000]))):\n",
        "  img.append(coco.loadImgs(imgIds)[i])\n",
        "  ann_ids = coco.getAnnIds(imgIds=img[i]['id'], iscrowd=None)\n",
        "  anns = coco.loadAnns(ann_ids)\n",
        "  #urllib.request.urlretrieve(img[i]['coco_url'],\"temp_file\")\n",
        "  image_file = 'train2014\\COCO_train2014_' + str(anns[0]['image_id']).zfill(12) + '.jpg'\n",
        "  I = Image.open(image_file)\n",
        "  anns_lst.append(anns)\n",
        "  images.append(preprocess(I))"
      ]
    },
    {
      "cell_type": "markdown",
      "metadata": {},
      "source": [
        "## Building features for 50000 separately"
      ]
    },
    {
      "cell_type": "code",
      "execution_count": null,
      "metadata": {},
      "outputs": [],
      "source": [
        "chunk_size = 2000\n",
        "images_list = [images[i:i+chunk_size] for i in range(0, len(images), chunk_size)]\n",
        "text_list = [anns_lst[i:i+chunk_size] for i in range(0, len(anns_lst), chunk_size)]\n",
        "\n",
        "for n in tqdm(range(25)):\n",
        "\n",
        "    image_input = torch.tensor(np.stack(images_list[n])).cuda()\n",
        "    text_tokens = clip.tokenize([text_list[n][i][0]['caption'] for i in range(chunk_size)]).cuda()\n",
        "\n",
        "    with torch.no_grad():\n",
        "        image_features = model.encode_image(torch.tensor(image_input)).float()\n",
        "        text_features = model.encode_text(torch.tensor(text_tokens)).float()\n",
        "\n",
        "    image_file = 'image_features_' + str(n+1) + '.pt'\n",
        "    text_file = 'text_features_' + str(n+1) + '.pt'\n",
        "    \n",
        "    torch.save(image_features, image_file)\n",
        "    torch.save(text_features, text_file)\n",
        "\n",
        "    del image_input\n",
        "    del text_tokens\n",
        "    del image_features\n",
        "    del text_features\n",
        "\n",
        "    torch.cuda.empty_cache()"
      ]
    },
    {
      "cell_type": "code",
      "execution_count": null,
      "metadata": {},
      "outputs": [],
      "source": [
        "image_file_list = []\n",
        "text_file_list = []\n",
        "\n",
        "for i in range(25):\n",
        "    image_feature_file = 'image_features_' + str(i+1) + '.pt'\n",
        "    text_feature_file = 'text_features_' + str(i+1) + '.pt'\n",
        "\n",
        "    image_tensor = torch.load(image_feature_file, map_location=lambda storage, loc: storage)\n",
        "    text_tensor = torch.load(text_feature_file, map_location=lambda storage, loc: storage)\n",
        "\n",
        "    image_file_list.append(image_tensor)\n",
        "    text_file_list.append(text_tensor)\n",
        "\n",
        "image_feature = torch.cat(tuple(image_file_list))\n",
        "text_feature = torch.cat(tuple(text_file_list))"
      ]
    },
    {
      "cell_type": "code",
      "execution_count": null,
      "metadata": {},
      "outputs": [],
      "source": [
        "torch.save(image_feature, 'image_feature_50000.pt')\n",
        "torch.save(text_feature, 'text_feature_50000.pt')"
      ]
    },
    {
      "cell_type": "markdown",
      "metadata": {
        "id": "WEVKsji6WOIX"
      },
      "source": [
        "## Building features for single set"
      ]
    },
    {
      "cell_type": "code",
      "execution_count": 4,
      "metadata": {
        "colab": {
          "base_uri": "https://localhost:8080/"
        },
        "id": "HBgCanxi8JKw",
        "outputId": "704076a6-2d0e-45b7-ed59-6d5bd2e951d3"
      },
      "outputs": [],
      "source": [
        "image_input = torch.tensor(np.stack(images)).cuda()\n",
        "text_tokens = clip.tokenize([anns_lst[i][0]['caption'] for i in range(len(img))]).cuda()"
      ]
    },
    {
      "cell_type": "code",
      "execution_count": 5,
      "metadata": {
        "colab": {
          "base_uri": "https://localhost:8080/"
        },
        "id": "ZN9I0nIBZ_vW",
        "outputId": "160a46b6-4e95-4de9-fae7-da228e66096d"
      },
      "outputs": [
        {
          "name": "stderr",
          "output_type": "stream",
          "text": [
            "<ipython-input-5-ccf31e2d4524>:2: UserWarning: To copy construct from a tensor, it is recommended to use sourceTensor.clone().detach() or sourceTensor.clone().detach().requires_grad_(True), rather than torch.tensor(sourceTensor).\n",
            "  image_features = model.encode_image(torch.tensor(image_input)).float()\n",
            "<ipython-input-5-ccf31e2d4524>:3: UserWarning: To copy construct from a tensor, it is recommended to use sourceTensor.clone().detach() or sourceTensor.clone().detach().requires_grad_(True), rather than torch.tensor(sourceTensor).\n",
            "  text_features = model.encode_text(torch.tensor(text_tokens)).float()\n"
          ]
        }
      ],
      "source": [
        "with torch.no_grad():\n",
        "    image_features = model.encode_image(torch.tensor(image_input)).float()\n",
        "    text_features = model.encode_text(torch.tensor(text_tokens)).float()\n",
        "\n",
        "torch.save(image_features, 'image_features_test2000.pt')\n",
        "torch.save(text_features, 'text_features_test2000.pt')"
      ]
    }
  ],
  "metadata": {
    "accelerator": "GPU",
    "colab": {
      "provenance": []
    },
    "kernelspec": {
      "display_name": "Python 3.8.8 ('base')",
      "language": "python",
      "name": "python3"
    },
    "language_info": {
      "codemirror_mode": {
        "name": "ipython",
        "version": 3
      },
      "file_extension": ".py",
      "mimetype": "text/x-python",
      "name": "python",
      "nbconvert_exporter": "python",
      "pygments_lexer": "ipython3",
      "version": "3.8.8"
    },
    "vscode": {
      "interpreter": {
        "hash": "b022e157b84a291f6a189a91e7d986d447b1475e21e30d40c9e53b250b6a90ef"
      }
    },
    "widgets": {
      "application/vnd.jupyter.widget-state+json": {
        "37a4de429c2641b9b27f12146b085ad8": {
          "model_module": "@jupyter-widgets/base",
          "model_module_version": "1.2.0",
          "model_name": "LayoutModel",
          "state": {
            "_model_module": "@jupyter-widgets/base",
            "_model_module_version": "1.2.0",
            "_model_name": "LayoutModel",
            "_view_count": null,
            "_view_module": "@jupyter-widgets/base",
            "_view_module_version": "1.2.0",
            "_view_name": "LayoutView",
            "align_content": null,
            "align_items": null,
            "align_self": null,
            "border": null,
            "bottom": null,
            "display": null,
            "flex": null,
            "flex_flow": null,
            "grid_area": null,
            "grid_auto_columns": null,
            "grid_auto_flow": null,
            "grid_auto_rows": null,
            "grid_column": null,
            "grid_gap": null,
            "grid_row": null,
            "grid_template_areas": null,
            "grid_template_columns": null,
            "grid_template_rows": null,
            "height": null,
            "justify_content": null,
            "justify_items": null,
            "left": null,
            "margin": null,
            "max_height": null,
            "max_width": null,
            "min_height": null,
            "min_width": null,
            "object_fit": null,
            "object_position": null,
            "order": null,
            "overflow": null,
            "overflow_x": null,
            "overflow_y": null,
            "padding": null,
            "right": null,
            "top": null,
            "visibility": null,
            "width": null
          }
        },
        "55af02b1946646859e8394f7b93a99dd": {
          "model_module": "@jupyter-widgets/controls",
          "model_module_version": "1.5.0",
          "model_name": "HTMLModel",
          "state": {
            "_dom_classes": [],
            "_model_module": "@jupyter-widgets/controls",
            "_model_module_version": "1.5.0",
            "_model_name": "HTMLModel",
            "_view_count": null,
            "_view_module": "@jupyter-widgets/controls",
            "_view_module_version": "1.5.0",
            "_view_name": "HTMLView",
            "description": "",
            "description_tooltip": null,
            "layout": "IPY_MODEL_37a4de429c2641b9b27f12146b085ad8",
            "placeholder": "​",
            "style": "IPY_MODEL_7cd252f2be5c496c9a11ef929ee1a002",
            "value": " 169001437/169001437 [00:03&lt;00:00, 53401046.07it/s]"
          }
        },
        "7cd252f2be5c496c9a11ef929ee1a002": {
          "model_module": "@jupyter-widgets/controls",
          "model_module_version": "1.5.0",
          "model_name": "DescriptionStyleModel",
          "state": {
            "_model_module": "@jupyter-widgets/controls",
            "_model_module_version": "1.5.0",
            "_model_name": "DescriptionStyleModel",
            "_view_count": null,
            "_view_module": "@jupyter-widgets/base",
            "_view_module_version": "1.2.0",
            "_view_name": "StyleView",
            "description_width": ""
          }
        },
        "803ec7fdf36c4a49bd6b85f32520e5f5": {
          "model_module": "@jupyter-widgets/controls",
          "model_module_version": "1.5.0",
          "model_name": "DescriptionStyleModel",
          "state": {
            "_model_module": "@jupyter-widgets/controls",
            "_model_module_version": "1.5.0",
            "_model_name": "DescriptionStyleModel",
            "_view_count": null,
            "_view_module": "@jupyter-widgets/base",
            "_view_module_version": "1.2.0",
            "_view_name": "StyleView",
            "description_width": ""
          }
        },
        "82b20168aea34ba1bcc4a3428fba4d27": {
          "model_module": "@jupyter-widgets/controls",
          "model_module_version": "1.5.0",
          "model_name": "HTMLModel",
          "state": {
            "_dom_classes": [],
            "_model_module": "@jupyter-widgets/controls",
            "_model_module_version": "1.5.0",
            "_model_name": "HTMLModel",
            "_view_count": null,
            "_view_module": "@jupyter-widgets/controls",
            "_view_module_version": "1.5.0",
            "_view_name": "HTMLView",
            "description": "",
            "description_tooltip": null,
            "layout": "IPY_MODEL_fa4bc66a34a64a8c9accdbd994e55540",
            "placeholder": "​",
            "style": "IPY_MODEL_803ec7fdf36c4a49bd6b85f32520e5f5",
            "value": "100%"
          }
        },
        "c634887a45434732b4eca5fdf06d2b74": {
          "model_module": "@jupyter-widgets/controls",
          "model_module_version": "1.5.0",
          "model_name": "FloatProgressModel",
          "state": {
            "_dom_classes": [],
            "_model_module": "@jupyter-widgets/controls",
            "_model_module_version": "1.5.0",
            "_model_name": "FloatProgressModel",
            "_view_count": null,
            "_view_module": "@jupyter-widgets/controls",
            "_view_module_version": "1.5.0",
            "_view_name": "ProgressView",
            "bar_style": "success",
            "description": "",
            "description_tooltip": null,
            "layout": "IPY_MODEL_e0bfe4ddb18b42ad9bf590c061edd254",
            "max": 169001437,
            "min": 0,
            "orientation": "horizontal",
            "style": "IPY_MODEL_fa95340327674a6c9d3b5a50726e8bc2",
            "value": 169001437
          }
        },
        "cb33caaf95cf485e8d9db9a340b204e7": {
          "model_module": "@jupyter-widgets/base",
          "model_module_version": "1.2.0",
          "model_name": "LayoutModel",
          "state": {
            "_model_module": "@jupyter-widgets/base",
            "_model_module_version": "1.2.0",
            "_model_name": "LayoutModel",
            "_view_count": null,
            "_view_module": "@jupyter-widgets/base",
            "_view_module_version": "1.2.0",
            "_view_name": "LayoutView",
            "align_content": null,
            "align_items": null,
            "align_self": null,
            "border": null,
            "bottom": null,
            "display": null,
            "flex": null,
            "flex_flow": null,
            "grid_area": null,
            "grid_auto_columns": null,
            "grid_auto_flow": null,
            "grid_auto_rows": null,
            "grid_column": null,
            "grid_gap": null,
            "grid_row": null,
            "grid_template_areas": null,
            "grid_template_columns": null,
            "grid_template_rows": null,
            "height": null,
            "justify_content": null,
            "justify_items": null,
            "left": null,
            "margin": null,
            "max_height": null,
            "max_width": null,
            "min_height": null,
            "min_width": null,
            "object_fit": null,
            "object_position": null,
            "order": null,
            "overflow": null,
            "overflow_x": null,
            "overflow_y": null,
            "padding": null,
            "right": null,
            "top": null,
            "visibility": null,
            "width": null
          }
        },
        "dbbfd4bd1a234a62a689cf5511358834": {
          "model_module": "@jupyter-widgets/controls",
          "model_module_version": "1.5.0",
          "model_name": "HBoxModel",
          "state": {
            "_dom_classes": [],
            "_model_module": "@jupyter-widgets/controls",
            "_model_module_version": "1.5.0",
            "_model_name": "HBoxModel",
            "_view_count": null,
            "_view_module": "@jupyter-widgets/controls",
            "_view_module_version": "1.5.0",
            "_view_name": "HBoxView",
            "box_style": "",
            "children": [
              "IPY_MODEL_82b20168aea34ba1bcc4a3428fba4d27",
              "IPY_MODEL_c634887a45434732b4eca5fdf06d2b74",
              "IPY_MODEL_55af02b1946646859e8394f7b93a99dd"
            ],
            "layout": "IPY_MODEL_cb33caaf95cf485e8d9db9a340b204e7"
          }
        },
        "e0bfe4ddb18b42ad9bf590c061edd254": {
          "model_module": "@jupyter-widgets/base",
          "model_module_version": "1.2.0",
          "model_name": "LayoutModel",
          "state": {
            "_model_module": "@jupyter-widgets/base",
            "_model_module_version": "1.2.0",
            "_model_name": "LayoutModel",
            "_view_count": null,
            "_view_module": "@jupyter-widgets/base",
            "_view_module_version": "1.2.0",
            "_view_name": "LayoutView",
            "align_content": null,
            "align_items": null,
            "align_self": null,
            "border": null,
            "bottom": null,
            "display": null,
            "flex": null,
            "flex_flow": null,
            "grid_area": null,
            "grid_auto_columns": null,
            "grid_auto_flow": null,
            "grid_auto_rows": null,
            "grid_column": null,
            "grid_gap": null,
            "grid_row": null,
            "grid_template_areas": null,
            "grid_template_columns": null,
            "grid_template_rows": null,
            "height": null,
            "justify_content": null,
            "justify_items": null,
            "left": null,
            "margin": null,
            "max_height": null,
            "max_width": null,
            "min_height": null,
            "min_width": null,
            "object_fit": null,
            "object_position": null,
            "order": null,
            "overflow": null,
            "overflow_x": null,
            "overflow_y": null,
            "padding": null,
            "right": null,
            "top": null,
            "visibility": null,
            "width": null
          }
        },
        "fa4bc66a34a64a8c9accdbd994e55540": {
          "model_module": "@jupyter-widgets/base",
          "model_module_version": "1.2.0",
          "model_name": "LayoutModel",
          "state": {
            "_model_module": "@jupyter-widgets/base",
            "_model_module_version": "1.2.0",
            "_model_name": "LayoutModel",
            "_view_count": null,
            "_view_module": "@jupyter-widgets/base",
            "_view_module_version": "1.2.0",
            "_view_name": "LayoutView",
            "align_content": null,
            "align_items": null,
            "align_self": null,
            "border": null,
            "bottom": null,
            "display": null,
            "flex": null,
            "flex_flow": null,
            "grid_area": null,
            "grid_auto_columns": null,
            "grid_auto_flow": null,
            "grid_auto_rows": null,
            "grid_column": null,
            "grid_gap": null,
            "grid_row": null,
            "grid_template_areas": null,
            "grid_template_columns": null,
            "grid_template_rows": null,
            "height": null,
            "justify_content": null,
            "justify_items": null,
            "left": null,
            "margin": null,
            "max_height": null,
            "max_width": null,
            "min_height": null,
            "min_width": null,
            "object_fit": null,
            "object_position": null,
            "order": null,
            "overflow": null,
            "overflow_x": null,
            "overflow_y": null,
            "padding": null,
            "right": null,
            "top": null,
            "visibility": null,
            "width": null
          }
        },
        "fa95340327674a6c9d3b5a50726e8bc2": {
          "model_module": "@jupyter-widgets/controls",
          "model_module_version": "1.5.0",
          "model_name": "ProgressStyleModel",
          "state": {
            "_model_module": "@jupyter-widgets/controls",
            "_model_module_version": "1.5.0",
            "_model_name": "ProgressStyleModel",
            "_view_count": null,
            "_view_module": "@jupyter-widgets/base",
            "_view_module_version": "1.2.0",
            "_view_name": "StyleView",
            "bar_color": null,
            "description_width": ""
          }
        }
      }
    }
  },
  "nbformat": 4,
  "nbformat_minor": 0
}
